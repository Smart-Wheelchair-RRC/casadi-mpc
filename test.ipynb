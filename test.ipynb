{
 "cells": [
  {
   "cell_type": "code",
   "execution_count": 1,
   "metadata": {},
   "outputs": [
    {
     "name": "stdout",
     "output_type": "stream",
     "text": [
      "(3, 4) (3, 4)\n",
      "-0.5\n"
     ]
    }
   ],
   "source": [
    "import numpy as np\n",
    "import casadi as ca\n",
    "vertices = np.array([[0, 0], [1, 0], [1, 1], [0, 1]])\n",
    "distance_to = [(0.5, 0.5)]\n",
    "a = vertices\n",
    "b = np.roll(a, -1, axis=0)\n",
    "edge = b - a\n",
    "v = distance_to[:2] - a\n",
    "pq = (\n",
    "    v\n",
    "    - edge\n",
    "    * np.clip(np.sum(v * edge, axis=1) / np.sum(edge * edge, axis=1), 0, 1)[\n",
    "        :, None\n",
    "    ]\n",
    ")\n",
    "distance = np.min(np.sum(pq**2, axis=1))\n",
    "\n",
    "v2 = distance_to[:2] - b\n",
    "val3 = (np.roll(edge, 1, axis=1) * v)\n",
    "val3 = val3[:, 1] - val3[:, 0]\n",
    "condition = np.stack([v[:, 1] >= 0, v2[:, 1] < 0, val3 > 0])\n",
    "not_condition = np.stack([v[:, 1] < 0, v2[:, 1] >= 0, val3 < 0])\n",
    "print(condition.shape, not_condition.shape)\n",
    "condition = np.all(condition, axis=0)\n",
    "not_condition = np.all(np.all(not_condition, axis=0))\n",
    "condition = np.all(np.sum(condition))\n",
    "s = -1 if condition or not_condition else 1\n",
    "print(np.sqrt(distance) * s)"
   ]
  },
  {
   "cell_type": "code",
   "execution_count": 2,
   "metadata": {},
   "outputs": [],
   "source": [
    "vertices = np.array([[0, 0], [1, 0], [1, 1], [0, 1]])\n",
    "distance_to = ca.SX.sym(\"distance_to\", 2)\n",
    "a = vertices\n",
    "b = np.roll(a, -1, axis=0)\n",
    "edge = b - a\n",
    "v = ca.repmat(distance_to[:2].T, a.shape[0], 1) - a\n",
    "# pq = (\n",
    "#     v\n",
    "#     - edge\n",
    "#     * np.clip(np.sum(v * edge, axis=1) / np.sum(edge * edge, axis=1), 0, 1)[\n",
    "#         :, None\n",
    "#     ]\n",
    "# )\n",
    "# distance = np.min(np.sum(pq**2, axis=1))\n",
    "\n",
    "# v2 = distance_to[:2] - b\n",
    "# val3 = (np.roll(edge, 1, axis=1) * v)\n",
    "# val3 = val3[:, 1] - val3[:, 0]\n",
    "# condition = np.stack([v[:, 1] >= 0, v2[:, 1] < 0, val3 > 0])\n",
    "# not_condition = np.stack([v[:, 1] < 0, v2[:, 1] >= 0, val3 < 0])\n",
    "# condition = np.all(condition, axis=0)\n",
    "# not_condition = np.all(np.all(not_condition, axis=0))\n",
    "# condition = np.all(np.sum(condition))\n",
    "# s = -1 if condition or not_condition else 1\n",
    "# print(np.sqrt(distance) * s)"
   ]
  },
  {
   "cell_type": "code",
   "execution_count": 13,
   "metadata": {},
   "outputs": [
    {
     "name": "stdout",
     "output_type": "stream",
     "text": [
      "@1=0, @2=1, @3=(distance_to_1-@2), @4=(distance_to_1-@2), @5=(distance_to_1-@2), @6=(distance_to_1-@2), @7=(distance_to_0-@2), @8=(-@7), @9=(-@3), @10=(((((((@1<=distance_to_1)+(@1<=distance_to_1))+(@1<=@3))+(@1<=@4))+((((distance_to_1<@1)+(@5<@1))+(@6<@1))+(distance_to_1<@1)))+((((@1<distance_to_1)+(@1<@8))+(@1<@9))+(@1<distance_to_0)))+((((((distance_to_1<@1)+(distance_to_1<@1))+(@3<@1))+(@4<@1))+((((@1<=distance_to_1)+(@1<=@5))+(@1<=@6))+(@1<=distance_to_1)))+((((distance_to_1<@1)+(@8<@1))+(@9<@1))+(distance_to_0<@1)))), @11=(distance_to_0-@2), @12=fmin(fmin(fmin((sq((distance_to_0-fmin(fmax(distance_to_0,@1),@2)))+sq(distance_to_1)),(sq(@7)+sq((distance_to_1-fmin(fmax(distance_to_1,@1),@2))))),(sq((@11+fmin(fmax((-@11),@1),@2)))+sq(@3))),(sq(distance_to_0)+sq((@4+fmin(fmax((-@4),@1),@2))))), ((@10?(-sqrt(@12)):0)+((!@10)?sqrt(@12):0))\n"
     ]
    }
   ],
   "source": [
    "\n",
    "v = ca.repmat(distance_to[:2].T, a.shape[0], 1) - a\n",
    "pq = v - edge * ca.fmin(ca.fmax(ca.sum2(v * edge) / ca.sum2(edge * edge), 0), 1)\n",
    "distance = ca.mmin(ca.sum2(pq**2))\n",
    "\n",
    "v2 = ca.repmat(distance_to[:2].T, b.shape[0], 1) - b\n",
    "val3 = np.roll(edge, 1, axis=1) * v\n",
    "val3 = val3[:, 1] - val3[:, 0]\n",
    "condition = ca.horzcat(v[:, 1] >= 0, v2[:, 1] < 0, val3 > 0)\n",
    "not_condition = ca.horzcat(v[:, 1] < 0, v2[:, 1] >= 0, val3 < 0)\n",
    "condition = ca.sum2(ca.sum1(condition))\n",
    "not_condition = ca.sum2(ca.sum1(not_condition))\n",
    "print(ca.if_else(\n",
    "    ca.sum1(ca.vertcat(condition, not_condition)),\n",
    "    ca.sqrt(distance) * -1,\n",
    "    ca.sqrt(distance) * 1,\n",
    "))"
   ]
  }
 ],
 "metadata": {
  "kernelspec": {
   "display_name": "casadi",
   "language": "python",
   "name": "python3"
  },
  "language_info": {
   "codemirror_mode": {
    "name": "ipython",
    "version": 3
   },
   "file_extension": ".py",
   "mimetype": "text/x-python",
   "name": "python",
   "nbconvert_exporter": "python",
   "pygments_lexer": "ipython3",
   "version": "3.10.13"
  }
 },
 "nbformat": 4,
 "nbformat_minor": 2
}
