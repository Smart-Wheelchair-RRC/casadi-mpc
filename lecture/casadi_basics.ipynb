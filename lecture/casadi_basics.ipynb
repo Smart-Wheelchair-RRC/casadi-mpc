{
 "cells": [
  {
   "cell_type": "code",
   "execution_count": 1,
   "metadata": {},
   "outputs": [],
   "source": [
    "# Import libraries\n",
    "import casadi as cd\n",
    "import numpy as np\n",
    "import matplotlib.pyplot as plt"
   ]
  },
  {
   "cell_type": "markdown",
   "metadata": {},
   "source": [
    "### Toy Optimization Problem\n",
    "$$\n",
    "\\begin{aligned}\n",
    "& \\underset{x}{\\text{min}}& &f(x;p) = x_1^2 + x_2^2 + x_3^2 \\\\ \n",
    "& \\text{subject to :}& & x_1, x_2, x_3 \\geq 0\\\\\n",
    "& & & 6x_1 + 3x_2 + 2x_3 - p_1 = 0\\\\\n",
    "& & & p_2x_1 + x_2 - x_3 - 1 = 0\n",
    "\\end{aligned}\n",
    "$$"
   ]
  },
  {
   "cell_type": "code",
   "execution_count": 2,
   "metadata": {},
   "outputs": [],
   "source": [
    "# Decision variables\n",
    "x1 = cd.SX.sym(\"x1\")\n",
    "x2 = cd.SX.sym(\"x2\")\n",
    "x3 = cd.SX.sym(\"x3\")\n",
    "x = cd.vertcat(x1, x2, x3)\n",
    "\n",
    "# Parameters\n",
    "p = cd.SX.sym(\"p\", 2)\n",
    "\n",
    "\n",
    "# Objective function\n",
    "f = x1**2 + x2**2 + x3**2\n",
    "\n",
    "# Constraints\n",
    "g = cd.vertcat(\n",
    "    6 * x[0] + 3 * x[1] + 2 * x[2] - p[0],\n",
    "    p[1] * x[0] + x[1] - x[2] - 1,\n",
    ")\n",
    "\n",
    "non_linear_program = {\"x\": x, \"f\": f, \"g\": g, \"p\": p}"
   ]
  },
  {
   "cell_type": "code",
   "execution_count": 3,
   "metadata": {},
   "outputs": [],
   "source": [
    "solver_options = {\n",
    "    \"ipopt\": {\n",
    "        \"max_iter\": 2000,\n",
    "        \"print_level\": 5,\n",
    "        \"acceptable_tol\": 1e-8,  # acceptable error in the objective function for termination\n",
    "        \"acceptable_obj_change_tol\": 1e-6,  # acceptable change in the objective function for termination\n",
    "    },\n",
    "    \"print_time\": 0,\n",
    "}\n",
    "\n",
    "solver = cd.nlpsol(\"solver\", \"ipopt\", non_linear_program, solver_options)"
   ]
  },
  {
   "cell_type": "code",
   "execution_count": 4,
   "metadata": {},
   "outputs": [
    {
     "name": "stdout",
     "output_type": "stream",
     "text": [
      "\n",
      "******************************************************************************\n",
      "This program contains Ipopt, a library for large-scale nonlinear optimization.\n",
      " Ipopt is released as open source code under the Eclipse Public License (EPL).\n",
      "         For more information visit https://github.com/coin-or/Ipopt\n",
      "******************************************************************************\n",
      "\n",
      "This is Ipopt version 3.14.11, running with linear solver MUMPS 5.4.1.\n",
      "\n",
      "Number of nonzeros in equality constraint Jacobian...:        6\n",
      "Number of nonzeros in inequality constraint Jacobian.:        0\n",
      "Number of nonzeros in Lagrangian Hessian.............:        3\n",
      "\n",
      "Total number of variables............................:        3\n",
      "                     variables with only lower bounds:        3\n",
      "                variables with lower and upper bounds:        0\n",
      "                     variables with only upper bounds:        0\n",
      "Total number of equality constraints.................:        2\n",
      "Total number of inequality constraints...............:        0\n",
      "        inequality constraints with only lower bounds:        0\n",
      "   inequality constraints with lower and upper bounds:        0\n",
      "        inequality constraints with only upper bounds:        0\n",
      "\n",
      "iter    objective    inf_pr   inf_du lg(mu)  ||d||  lg(rg) alpha_du alpha_pr  ls\n",
      "   0  4.5100000e-02 3.63e+00 4.11e-01  -1.0 0.00e+00    -  0.00e+00 0.00e+00   0\n",
      "   1  5.8681488e-01 8.88e-16 1.95e+00  -1.0 3.91e-01    -  3.37e-01 1.00e+00h  1\n",
      "   2  5.9327019e-01 8.88e-16 1.00e-06  -1.0 1.32e-02    -  1.00e+00 1.00e+00f  1\n",
      "   3  5.6004673e-01 0.00e+00 4.92e-02  -2.5 8.93e-02    -  9.26e-01 1.00e+00f  1\n",
      "   4  5.5264341e-01 1.11e-16 2.83e-08  -2.5 4.42e-02    -  1.00e+00 1.00e+00f  1\n",
      "   5  5.5114453e-01 2.22e-16 1.50e-09  -3.8 2.36e-02    -  1.00e+00 1.00e+00f  1\n",
      "   6  5.5102559e-01 8.88e-16 1.50e-09  -3.8 7.16e-03    -  1.00e+00 1.00e+00f  1\n",
      "   7  5.5102042e-01 8.88e-16 1.84e-11  -5.7 1.77e-03    -  1.00e+00 1.00e+00f  1\n",
      "   8  5.5102041e-01 8.88e-16 2.51e-14  -8.6 6.77e-05    -  1.00e+00 1.00e+00h  1\n",
      "   9  5.5102041e-01 0.00e+00 9.07e-15  -9.0 9.29e-08    -  1.00e+00 1.00e+00h  1\n",
      "\n",
      "Number of Iterations....: 9\n",
      "\n",
      "                                   (scaled)                 (unscaled)\n",
      "Objective...............:   5.5102040816326525e-01    5.5102040816326525e-01\n",
      "Dual infeasibility......:   9.0748420639218206e-15    9.0748420639218206e-15\n",
      "Constraint violation....:   0.0000000000000000e+00    0.0000000000000000e+00\n",
      "Variable bound violation:   0.0000000000000000e+00    0.0000000000000000e+00\n",
      "Complementarity.........:   9.0911698984221053e-10    9.0911698984221053e-10\n",
      "Overall NLP error.......:   9.0911698984221053e-10    9.0911698984221053e-10\n",
      "\n",
      "\n",
      "Number of objective function evaluations             = 10\n",
      "Number of objective gradient evaluations             = 10\n",
      "Number of equality constraint evaluations            = 10\n",
      "Number of inequality constraint evaluations          = 0\n",
      "Number of equality constraint Jacobian evaluations   = 10\n",
      "Number of inequality constraint Jacobian evaluations = 0\n",
      "Number of Lagrangian Hessian evaluations             = 9\n",
      "Total seconds in IPOPT                               = 0.025\n",
      "\n",
      "EXIT: Optimal Solution Found.\n"
     ]
    }
   ],
   "source": [
    "# Nonlinear bounds\n",
    "lbg = [0.00, 0.00]\n",
    "ubg = [0.00, 0.00]\n",
    "\n",
    "# Input bounds for the optimization variables\n",
    "lbx = [0.00, 0.00, 0.00]\n",
    "ubx = [cd.inf, cd.inf, cd.inf]\n",
    "\n",
    "# Initial guess for the decision variables\n",
    "x0 = [0.15, 0.15, 0.00]\n",
    "\n",
    "solution = solver(\n",
    "    x0=x0,\n",
    "    lbx=lbx,\n",
    "    ubx=ubx,\n",
    "    lbg=lbg,\n",
    "    ubg=ubg,\n",
    "    p=[5.00, 1.00],\n",
    ")"
   ]
  },
  {
   "cell_type": "code",
   "execution_count": 5,
   "metadata": {},
   "outputs": [
    {
     "name": "stdout",
     "output_type": "stream",
     "text": [
      "----\n",
      "Minimal cost  0.55102\n",
      "----\n",
      "Optimal solution\n",
      "x =  [0.632653, 0.387755, 0.0204082]\n",
      "----\n"
     ]
    }
   ],
   "source": [
    "# Print the solution\n",
    "print(\"----\")\n",
    "print(\"Minimal cost \", solution[\"f\"])\n",
    "print(\"----\")\n",
    "\n",
    "print(\"Optimal solution\")\n",
    "print(\"x = \", solution[\"x\"])\n",
    "print(\"----\")"
   ]
  }
 ],
 "metadata": {
  "kernelspec": {
   "display_name": "casadi",
   "language": "python",
   "name": "python3"
  },
  "language_info": {
   "codemirror_mode": {
    "name": "ipython",
    "version": 3
   },
   "file_extension": ".py",
   "mimetype": "text/x-python",
   "name": "python",
   "nbconvert_exporter": "python",
   "pygments_lexer": "ipython3",
   "version": "3.11.11"
  }
 },
 "nbformat": 4,
 "nbformat_minor": 2
}
